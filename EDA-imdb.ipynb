{
 "cells": [
  {
   "cell_type": "code",
   "execution_count": 1,
   "metadata": {},
   "outputs": [],
   "source": [
    "import pandas as pd\n",
    "import matplotlib.pyplot as plt\n",
    "%matplotlib inline"
   ]
  },
  {
   "cell_type": "markdown",
   "metadata": {},
   "source": [
    "#### Read in 'imdb_1000.csv' and store it in a DataFrame named movies."
   ]
  },
  {
   "cell_type": "code",
   "execution_count": 2,
   "metadata": {},
   "outputs": [
    {
     "data": {
      "text/html": [
       "<div>\n",
       "<style scoped>\n",
       "    .dataframe tbody tr th:only-of-type {\n",
       "        vertical-align: middle;\n",
       "    }\n",
       "\n",
       "    .dataframe tbody tr th {\n",
       "        vertical-align: top;\n",
       "    }\n",
       "\n",
       "    .dataframe thead th {\n",
       "        text-align: right;\n",
       "    }\n",
       "</style>\n",
       "<table border=\"1\" class=\"dataframe\">\n",
       "  <thead>\n",
       "    <tr style=\"text-align: right;\">\n",
       "      <th></th>\n",
       "      <th>star_rating</th>\n",
       "      <th>title</th>\n",
       "      <th>content_rating</th>\n",
       "      <th>genre</th>\n",
       "      <th>duration</th>\n",
       "      <th>actors_list</th>\n",
       "    </tr>\n",
       "  </thead>\n",
       "  <tbody>\n",
       "    <tr>\n",
       "      <th>0</th>\n",
       "      <td>9.3</td>\n",
       "      <td>The Shawshank Redemption</td>\n",
       "      <td>R</td>\n",
       "      <td>Crime</td>\n",
       "      <td>142</td>\n",
       "      <td>[u'Tim Robbins', u'Morgan Freeman', u'Bob Gunt...</td>\n",
       "    </tr>\n",
       "    <tr>\n",
       "      <th>1</th>\n",
       "      <td>9.2</td>\n",
       "      <td>The Godfather</td>\n",
       "      <td>R</td>\n",
       "      <td>Crime</td>\n",
       "      <td>175</td>\n",
       "      <td>[u'Marlon Brando', u'Al Pacino', u'James Caan']</td>\n",
       "    </tr>\n",
       "    <tr>\n",
       "      <th>2</th>\n",
       "      <td>9.1</td>\n",
       "      <td>The Godfather: Part II</td>\n",
       "      <td>R</td>\n",
       "      <td>Crime</td>\n",
       "      <td>200</td>\n",
       "      <td>[u'Al Pacino', u'Robert De Niro', u'Robert Duv...</td>\n",
       "    </tr>\n",
       "    <tr>\n",
       "      <th>3</th>\n",
       "      <td>9.0</td>\n",
       "      <td>The Dark Knight</td>\n",
       "      <td>PG-13</td>\n",
       "      <td>Action</td>\n",
       "      <td>152</td>\n",
       "      <td>[u'Christian Bale', u'Heath Ledger', u'Aaron E...</td>\n",
       "    </tr>\n",
       "    <tr>\n",
       "      <th>4</th>\n",
       "      <td>8.9</td>\n",
       "      <td>Pulp Fiction</td>\n",
       "      <td>R</td>\n",
       "      <td>Crime</td>\n",
       "      <td>154</td>\n",
       "      <td>[u'John Travolta', u'Uma Thurman', u'Samuel L....</td>\n",
       "    </tr>\n",
       "  </tbody>\n",
       "</table>\n",
       "</div>"
      ],
      "text/plain": [
       "   star_rating                     title content_rating   genre  duration  \\\n",
       "0          9.3  The Shawshank Redemption              R   Crime       142   \n",
       "1          9.2             The Godfather              R   Crime       175   \n",
       "2          9.1    The Godfather: Part II              R   Crime       200   \n",
       "3          9.0           The Dark Knight          PG-13  Action       152   \n",
       "4          8.9              Pulp Fiction              R   Crime       154   \n",
       "\n",
       "                                         actors_list  \n",
       "0  [u'Tim Robbins', u'Morgan Freeman', u'Bob Gunt...  \n",
       "1    [u'Marlon Brando', u'Al Pacino', u'James Caan']  \n",
       "2  [u'Al Pacino', u'Robert De Niro', u'Robert Duv...  \n",
       "3  [u'Christian Bale', u'Heath Ledger', u'Aaron E...  \n",
       "4  [u'John Travolta', u'Uma Thurman', u'Samuel L....  "
      ]
     },
     "execution_count": 2,
     "metadata": {},
     "output_type": "execute_result"
    }
   ],
   "source": [
    "movies = pd.read_csv('./data/imdb_1000.csv')\n",
    "movies.head()"
   ]
  },
  {
   "cell_type": "markdown",
   "metadata": {},
   "source": [
    "#### Check the number of rows and columns."
   ]
  },
  {
   "cell_type": "code",
   "execution_count": 3,
   "metadata": {},
   "outputs": [
    {
     "data": {
      "text/plain": [
       "(979, 6)"
      ]
     },
     "execution_count": 3,
     "metadata": {},
     "output_type": "execute_result"
    }
   ],
   "source": [
    "movies.shape"
   ]
  },
  {
   "cell_type": "markdown",
   "metadata": {},
   "source": [
    "#### Check the data type of each column."
   ]
  },
  {
   "cell_type": "code",
   "execution_count": 4,
   "metadata": {},
   "outputs": [
    {
     "data": {
      "text/plain": [
       "star_rating       float64\n",
       "title              object\n",
       "content_rating     object\n",
       "genre              object\n",
       "duration            int64\n",
       "actors_list        object\n",
       "dtype: object"
      ]
     },
     "execution_count": 4,
     "metadata": {},
     "output_type": "execute_result"
    }
   ],
   "source": [
    "movies.dtypes"
   ]
  },
  {
   "cell_type": "markdown",
   "metadata": {},
   "source": [
    "#### Calculate the average movie duration."
   ]
  },
  {
   "cell_type": "code",
   "execution_count": 5,
   "metadata": {},
   "outputs": [
    {
     "data": {
      "text/plain": [
       "120.97957099080695"
      ]
     },
     "execution_count": 5,
     "metadata": {},
     "output_type": "execute_result"
    }
   ],
   "source": [
    "movies.duration.mean()"
   ]
  },
  {
   "cell_type": "markdown",
   "metadata": {},
   "source": [
    "#### Sort the DataFrame by duration to find the shortest and longest movies."
   ]
  },
  {
   "cell_type": "code",
   "execution_count": 6,
   "metadata": {},
   "outputs": [
    {
     "data": {
      "text/html": [
       "<div>\n",
       "<style scoped>\n",
       "    .dataframe tbody tr th:only-of-type {\n",
       "        vertical-align: middle;\n",
       "    }\n",
       "\n",
       "    .dataframe tbody tr th {\n",
       "        vertical-align: top;\n",
       "    }\n",
       "\n",
       "    .dataframe thead th {\n",
       "        text-align: right;\n",
       "    }\n",
       "</style>\n",
       "<table border=\"1\" class=\"dataframe\">\n",
       "  <thead>\n",
       "    <tr style=\"text-align: right;\">\n",
       "      <th></th>\n",
       "      <th>star_rating</th>\n",
       "      <th>title</th>\n",
       "      <th>content_rating</th>\n",
       "      <th>genre</th>\n",
       "      <th>duration</th>\n",
       "      <th>actors_list</th>\n",
       "    </tr>\n",
       "  </thead>\n",
       "  <tbody>\n",
       "    <tr>\n",
       "      <th>389</th>\n",
       "      <td>8.0</td>\n",
       "      <td>Freaks</td>\n",
       "      <td>UNRATED</td>\n",
       "      <td>Drama</td>\n",
       "      <td>64</td>\n",
       "      <td>[u'Wallace Ford', u'Leila Hyams', u'Olga Bacla...</td>\n",
       "    </tr>\n",
       "    <tr>\n",
       "      <th>338</th>\n",
       "      <td>8.0</td>\n",
       "      <td>Battleship Potemkin</td>\n",
       "      <td>UNRATED</td>\n",
       "      <td>History</td>\n",
       "      <td>66</td>\n",
       "      <td>[u'Aleksandr Antonov', u'Vladimir Barsky', u'G...</td>\n",
       "    </tr>\n",
       "    <tr>\n",
       "      <th>258</th>\n",
       "      <td>8.1</td>\n",
       "      <td>The Cabinet of Dr. Caligari</td>\n",
       "      <td>UNRATED</td>\n",
       "      <td>Crime</td>\n",
       "      <td>67</td>\n",
       "      <td>[u'Werner Krauss', u'Conrad Veidt', u'Friedric...</td>\n",
       "    </tr>\n",
       "    <tr>\n",
       "      <th>293</th>\n",
       "      <td>8.1</td>\n",
       "      <td>Duck Soup</td>\n",
       "      <td>PASSED</td>\n",
       "      <td>Comedy</td>\n",
       "      <td>68</td>\n",
       "      <td>[u'Groucho Marx', u'Harpo Marx', u'Chico Marx']</td>\n",
       "    </tr>\n",
       "    <tr>\n",
       "      <th>88</th>\n",
       "      <td>8.4</td>\n",
       "      <td>The Kid</td>\n",
       "      <td>NOT RATED</td>\n",
       "      <td>Comedy</td>\n",
       "      <td>68</td>\n",
       "      <td>[u'Charles Chaplin', u'Edna Purviance', u'Jack...</td>\n",
       "    </tr>\n",
       "    <tr>\n",
       "      <th>...</th>\n",
       "      <td>...</td>\n",
       "      <td>...</td>\n",
       "      <td>...</td>\n",
       "      <td>...</td>\n",
       "      <td>...</td>\n",
       "      <td>...</td>\n",
       "    </tr>\n",
       "    <tr>\n",
       "      <th>445</th>\n",
       "      <td>7.9</td>\n",
       "      <td>The Ten Commandments</td>\n",
       "      <td>APPROVED</td>\n",
       "      <td>Adventure</td>\n",
       "      <td>220</td>\n",
       "      <td>[u'Charlton Heston', u'Yul Brynner', u'Anne Ba...</td>\n",
       "    </tr>\n",
       "    <tr>\n",
       "      <th>142</th>\n",
       "      <td>8.3</td>\n",
       "      <td>Lagaan: Once Upon a Time in India</td>\n",
       "      <td>PG</td>\n",
       "      <td>Adventure</td>\n",
       "      <td>224</td>\n",
       "      <td>[u'Aamir Khan', u'Gracy Singh', u'Rachel Shell...</td>\n",
       "    </tr>\n",
       "    <tr>\n",
       "      <th>78</th>\n",
       "      <td>8.4</td>\n",
       "      <td>Once Upon a Time in America</td>\n",
       "      <td>R</td>\n",
       "      <td>Crime</td>\n",
       "      <td>229</td>\n",
       "      <td>[u'Robert De Niro', u'James Woods', u'Elizabet...</td>\n",
       "    </tr>\n",
       "    <tr>\n",
       "      <th>157</th>\n",
       "      <td>8.2</td>\n",
       "      <td>Gone with the Wind</td>\n",
       "      <td>G</td>\n",
       "      <td>Drama</td>\n",
       "      <td>238</td>\n",
       "      <td>[u'Clark Gable', u'Vivien Leigh', u'Thomas Mit...</td>\n",
       "    </tr>\n",
       "    <tr>\n",
       "      <th>476</th>\n",
       "      <td>7.8</td>\n",
       "      <td>Hamlet</td>\n",
       "      <td>PG-13</td>\n",
       "      <td>Drama</td>\n",
       "      <td>242</td>\n",
       "      <td>[u'Kenneth Branagh', u'Julie Christie', u'Dere...</td>\n",
       "    </tr>\n",
       "  </tbody>\n",
       "</table>\n",
       "<p>979 rows × 6 columns</p>\n",
       "</div>"
      ],
      "text/plain": [
       "     star_rating                              title content_rating      genre  \\\n",
       "389          8.0                             Freaks        UNRATED      Drama   \n",
       "338          8.0                Battleship Potemkin        UNRATED    History   \n",
       "258          8.1        The Cabinet of Dr. Caligari        UNRATED      Crime   \n",
       "293          8.1                          Duck Soup         PASSED     Comedy   \n",
       "88           8.4                            The Kid      NOT RATED     Comedy   \n",
       "..           ...                                ...            ...        ...   \n",
       "445          7.9               The Ten Commandments       APPROVED  Adventure   \n",
       "142          8.3  Lagaan: Once Upon a Time in India             PG  Adventure   \n",
       "78           8.4        Once Upon a Time in America              R      Crime   \n",
       "157          8.2                 Gone with the Wind              G      Drama   \n",
       "476          7.8                             Hamlet          PG-13      Drama   \n",
       "\n",
       "     duration                                        actors_list  \n",
       "389        64  [u'Wallace Ford', u'Leila Hyams', u'Olga Bacla...  \n",
       "338        66  [u'Aleksandr Antonov', u'Vladimir Barsky', u'G...  \n",
       "258        67  [u'Werner Krauss', u'Conrad Veidt', u'Friedric...  \n",
       "293        68    [u'Groucho Marx', u'Harpo Marx', u'Chico Marx']  \n",
       "88         68  [u'Charles Chaplin', u'Edna Purviance', u'Jack...  \n",
       "..        ...                                                ...  \n",
       "445       220  [u'Charlton Heston', u'Yul Brynner', u'Anne Ba...  \n",
       "142       224  [u'Aamir Khan', u'Gracy Singh', u'Rachel Shell...  \n",
       "78        229  [u'Robert De Niro', u'James Woods', u'Elizabet...  \n",
       "157       238  [u'Clark Gable', u'Vivien Leigh', u'Thomas Mit...  \n",
       "476       242  [u'Kenneth Branagh', u'Julie Christie', u'Dere...  \n",
       "\n",
       "[979 rows x 6 columns]"
      ]
     },
     "execution_count": 6,
     "metadata": {},
     "output_type": "execute_result"
    }
   ],
   "source": [
    "movies.sort_values(by='duration')"
   ]
  },
  {
   "cell_type": "markdown",
   "metadata": {},
   "source": [
    "#### Create a histogram of duration,"
   ]
  },
  {
   "cell_type": "code",
   "execution_count": 8,
   "metadata": {},
   "outputs": [
    {
     "data": {
      "text/plain": [
       "array([[<AxesSubplot:title={'center':'duration'}>]], dtype=object)"
      ]
     },
     "execution_count": 8,
     "metadata": {},
     "output_type": "execute_result"
    },
    {
     "data": {
      "image/png": "[encoded data removed]",
      "text/plain": [
       "<Figure size 432x288 with 1 Axes>"
      ]
     },
     "metadata": {
      "needs_background": "light"
     },
     "output_type": "display_data"
    }
   ],
   "source": [
    "movies.hist('duration', bins=50)"
   ]
  },
  {
   "cell_type": "markdown",
   "metadata": {},
   "source": [
    "#### Use a box plot to display that same data."
   ]
  },
  {
   "cell_type": "code",
   "execution_count": 9,
   "metadata": {},
   "outputs": [
    {
     "data": {
      "text/plain": [
       "<AxesSubplot:>"
      ]
     },
     "execution_count": 9,
     "metadata": {},
     "output_type": "execute_result"
    },
    {
     "data": {
      "image/png": "[encoded data removed]",
      "text/plain": [
       "<Figure size 432x288 with 1 Axes>"
      ]
     },
     "metadata": {
      "needs_background": "light"
     },
     "output_type": "display_data"
    }
   ],
   "source": [
    "movies.duration.plot(kind='box')"
   ]
  },
  {
   "cell_type": "markdown",
   "metadata": {},
   "source": [
    "#### Count how many movies have each of the content ratings."
   ]
  },
  {
   "cell_type": "code",
   "execution_count": 10,
   "metadata": {},
   "outputs": [
    {
     "data": {
      "text/plain": [
       "R            460\n",
       "PG-13        189\n",
       "PG           123\n",
       "NOT RATED     65\n",
       "APPROVED      47\n",
       "UNRATED       38\n",
       "G             32\n",
       "PASSED         7\n",
       "NC-17          7\n",
       "X              4\n",
       "GP             3\n",
       "TV-MA          1\n",
       "Name: content_rating, dtype: int64"
      ]
     },
     "execution_count": 10,
     "metadata": {},
     "output_type": "execute_result"
    }
   ],
   "source": [
    "movies.content_rating.value_counts()"
   ]
  },
  {
   "cell_type": "markdown",
   "metadata": {},
   "source": [
    "#### Use a visualization to display that same data, including a title and x and y labels."
   ]
  },
  {
   "cell_type": "code",
   "execution_count": 11,
   "metadata": {},
   "outputs": [
    {
     "data": {
      "text/plain": [
       "<AxesSubplot:title={'center':'Top 100 IMDB movies by rating'}, xlabel='rating', ylabel='count'>"
      ]
     },
     "execution_count": 11,
     "metadata": {},
     "output_type": "execute_result"
    },
    {
     "data": {
      "image/png": "[encoded data removed]",
      "text/plain": [
       "<Figure size 432x288 with 1 Axes>"
      ]
     },
     "metadata": {
      "needs_background": "light"
     },
     "output_type": "display_data"
    }
   ],
   "source": [
    "movies.content_rating.value_counts().plot(kind='bar', title='Top 100 IMDB movies by rating',xlabel='rating', ylabel='count')"
   ]
  },
  {
   "cell_type": "markdown",
   "metadata": {},
   "source": [
    "#### Convert the following content ratings to \"UNRATED\": NOT RATED, APPROVED, PASSED, GP."
   ]
  },
  {
   "cell_type": "code",
   "execution_count": 12,
   "metadata": {},
   "outputs": [
    {
     "data": {
      "text/plain": [
       "R          460\n",
       "PG-13      189\n",
       "UNRATED    157\n",
       "PG         123\n",
       "G           32\n",
       "NC-17        7\n",
       "X            4\n",
       "GP           3\n",
       "TV-MA        1\n",
       "Name: content_rating, dtype: int64"
      ]
     },
     "execution_count": 12,
     "metadata": {},
     "output_type": "execute_result"
    }
   ],
   "source": [
    "movies.content_rating.replace(['NOT RATED', 'APPROVED', 'PASSED', 'GP,'],'UNRATED', inplace=True)\n",
    "movies.content_rating.value_counts()"
   ]
  },
  {
   "cell_type": "markdown",
   "metadata": {},
   "source": [
    "#### Convert the following content ratings to \"NC-17\": X, TV-MA."
   ]
  },
  {
   "cell_type": "code",
   "execution_count": 13,
   "metadata": {},
   "outputs": [
    {
     "data": {
      "text/plain": [
       "R          460\n",
       "PG-13      189\n",
       "UNRATED    157\n",
       "PG         123\n",
       "G           32\n",
       "NC-17       12\n",
       "GP           3\n",
       "Name: content_rating, dtype: int64"
      ]
     },
     "execution_count": 13,
     "metadata": {},
     "output_type": "execute_result"
    }
   ],
   "source": [
    "movies.content_rating.replace(['X', 'TV-MA'],'NC-17', inplace=True)\n",
    "movies.content_rating.value_counts()"
   ]
  },
  {
   "cell_type": "markdown",
   "metadata": {},
   "source": [
    "#### Count the number of missing values in each column."
   ]
  },
  {
   "cell_type": "code",
   "execution_count": 14,
   "metadata": {},
   "outputs": [
    {
     "data": {
      "text/plain": [
       "star_rating       0\n",
       "title             0\n",
       "content_rating    3\n",
       "genre             0\n",
       "duration          0\n",
       "actors_list       0\n",
       "dtype: int64"
      ]
     },
     "execution_count": 14,
     "metadata": {},
     "output_type": "execute_result"
    }
   ],
   "source": [
    "movies.isnull().sum()"
   ]
  },
  {
   "cell_type": "markdown",
   "metadata": {},
   "source": [
    "#### If there are missing values: examine them, then fill them in with \"reasonable\" values."
   ]
  },
  {
   "cell_type": "code",
   "execution_count": 15,
   "metadata": {
    "scrolled": true
   },
   "outputs": [
    {
     "data": {
      "text/html": [
       "<div>\n",
       "<style scoped>\n",
       "    .dataframe tbody tr th:only-of-type {\n",
       "        vertical-align: middle;\n",
       "    }\n",
       "\n",
       "    .dataframe tbody tr th {\n",
       "        vertical-align: top;\n",
       "    }\n",
       "\n",
       "    .dataframe thead th {\n",
       "        text-align: right;\n",
       "    }\n",
       "</style>\n",
       "<table border=\"1\" class=\"dataframe\">\n",
       "  <thead>\n",
       "    <tr style=\"text-align: right;\">\n",
       "      <th></th>\n",
       "      <th>star_rating</th>\n",
       "      <th>title</th>\n",
       "      <th>content_rating</th>\n",
       "      <th>genre</th>\n",
       "      <th>duration</th>\n",
       "      <th>actors_list</th>\n",
       "    </tr>\n",
       "  </thead>\n",
       "  <tbody>\n",
       "    <tr>\n",
       "      <th>187</th>\n",
       "      <td>8.2</td>\n",
       "      <td>Butch Cassidy and the Sundance Kid</td>\n",
       "      <td>NaN</td>\n",
       "      <td>Biography</td>\n",
       "      <td>110</td>\n",
       "      <td>[u'Paul Newman', u'Robert Redford', u'Katharin...</td>\n",
       "    </tr>\n",
       "    <tr>\n",
       "      <th>649</th>\n",
       "      <td>7.7</td>\n",
       "      <td>Where Eagles Dare</td>\n",
       "      <td>NaN</td>\n",
       "      <td>Action</td>\n",
       "      <td>158</td>\n",
       "      <td>[u'Richard Burton', u'Clint Eastwood', u'Mary ...</td>\n",
       "    </tr>\n",
       "    <tr>\n",
       "      <th>936</th>\n",
       "      <td>7.4</td>\n",
       "      <td>True Grit</td>\n",
       "      <td>NaN</td>\n",
       "      <td>Adventure</td>\n",
       "      <td>128</td>\n",
       "      <td>[u'John Wayne', u'Kim Darby', u'Glen Campbell']</td>\n",
       "    </tr>\n",
       "  </tbody>\n",
       "</table>\n",
       "</div>"
      ],
      "text/plain": [
       "     star_rating                               title content_rating  \\\n",
       "187          8.2  Butch Cassidy and the Sundance Kid            NaN   \n",
       "649          7.7                   Where Eagles Dare            NaN   \n",
       "936          7.4                           True Grit            NaN   \n",
       "\n",
       "         genre  duration                                        actors_list  \n",
       "187  Biography       110  [u'Paul Newman', u'Robert Redford', u'Katharin...  \n",
       "649     Action       158  [u'Richard Burton', u'Clint Eastwood', u'Mary ...  \n",
       "936  Adventure       128    [u'John Wayne', u'Kim Darby', u'Glen Campbell']  "
      ]
     },
     "execution_count": 15,
     "metadata": {},
     "output_type": "execute_result"
    }
   ],
   "source": [
    "movies[movies.content_rating.isnull()]"
   ]
  },
  {
   "cell_type": "code",
   "execution_count": 16,
   "metadata": {},
   "outputs": [],
   "source": [
    "movies.content_rating.fillna('UNRATED', inplace=True)"
   ]
  },
  {
   "cell_type": "markdown",
   "metadata": {},
   "source": [
    "#### Calculate the average star rating for movies 2 hours or longer, and compare that with the average star rating for movies shorter than 2 hours."
   ]
  },
  {
   "cell_type": "code",
   "execution_count": 17,
   "metadata": {},
   "outputs": [
    {
     "data": {
      "text/plain": [
       "7.948898678414082"
      ]
     },
     "execution_count": 17,
     "metadata": {},
     "output_type": "execute_result"
    }
   ],
   "source": [
    "movies[movies.duration >= 120].star_rating.mean()"
   ]
  },
  {
   "cell_type": "code",
   "execution_count": 18,
   "metadata": {},
   "outputs": [
    {
     "data": {
      "text/plain": [
       "7.838666666666657"
      ]
     },
     "execution_count": 18,
     "metadata": {},
     "output_type": "execute_result"
    }
   ],
   "source": [
    "movies[movies.duration < 120].star_rating.mean()"
   ]
  },
  {
   "cell_type": "markdown",
   "metadata": {},
   "source": [
    "#### Use a visualization to detect whether there is a relationship between duration and star rating."
   ]
  },
  {
   "cell_type": "code",
   "execution_count": 19,
   "metadata": {
    "scrolled": true
   },
   "outputs": [
    {
     "data": {
      "text/plain": [
       "<AxesSubplot:xlabel='duration', ylabel='star_rating'>"
      ]
     },
     "execution_count": 19,
     "metadata": {},
     "output_type": "execute_result"
    },
    {
     "data": {
      "image/png": "[encoded data removed]",
      "text/plain": [
       "<Figure size 432x288 with 1 Axes>"
      ]
     },
     "metadata": {
      "needs_background": "light"
     },
     "output_type": "display_data"
    }
   ],
   "source": [
    "movies.plot(kind='scatter', x='duration', y='star_rating', alpha=0.4)\n"
   ]
  },
  {
   "cell_type": "markdown",
   "metadata": {},
   "source": [
    "#### Calculate the average duration for each genre."
   ]
  },
  {
   "cell_type": "code",
   "execution_count": 20,
   "metadata": {},
   "outputs": [
    {
     "data": {
      "text/plain": [
       "genre\n",
       "Action       126.485294\n",
       "Adventure    134.840000\n",
       "Animation     96.596774\n",
       "Biography    131.844156\n",
       "Comedy       107.602564\n",
       "Crime        122.298387\n",
       "Drama        126.539568\n",
       "Family       107.500000\n",
       "Fantasy      112.000000\n",
       "Film-Noir     97.333333\n",
       "History       66.000000\n",
       "Horror       102.517241\n",
       "Mystery      115.625000\n",
       "Sci-Fi       109.000000\n",
       "Thriller     114.200000\n",
       "Western      136.666667\n",
       "Name: duration, dtype: float64"
      ]
     },
     "execution_count": 20,
     "metadata": {},
     "output_type": "execute_result"
    }
   ],
   "source": [
    "movies.groupby('genre').duration.mean()"
   ]
  },
  {
   "cell_type": "markdown",
   "metadata": {},
   "source": [
    "#### Visualize the relationship between content rating and duration."
   ]
  },
  {
   "cell_type": "code",
   "execution_count": 21,
   "metadata": {},
   "outputs": [
    {
     "data": {
      "text/plain": [
       "array([[<AxesSubplot:title={'center':'G'}>,\n",
       "        <AxesSubplot:title={'center':'GP'}>,\n",
       "        <AxesSubplot:title={'center':'NC-17'}>],\n",
       "       [<AxesSubplot:title={'center':'PG'}>,\n",
       "        <AxesSubplot:title={'center':'PG-13'}>,\n",
       "        <AxesSubplot:title={'center':'R'}>],\n",
       "       [<AxesSubplot:title={'center':'UNRATED'}>, <AxesSubplot:>,\n",
       "        <AxesSubplot:>]], dtype=object)"
      ]
     },
     "execution_count": 21,
     "metadata": {},
     "output_type": "execute_result"
    },
    {
     "data": {
      "image/png": "[encoded data removed]",
      "text/plain": [
       "<Figure size 432x288 with 1 Axes>"
      ]
     },
     "metadata": {
      "needs_background": "light"
     },
     "output_type": "display_data"
    },
    {
     "data": {
      "image/png": "[encoded data removed]",
      "text/plain": [
       "<Figure size 432x288 with 9 Axes>"
      ]
     },
     "metadata": {
      "needs_background": "light"
     },
     "output_type": "display_data"
    }
   ],
   "source": [
    "movies.boxplot(column='duration', by='content_rating')\n",
    "movies.duration.hist(by=movies.content_rating, sharex=True)\n"
   ]
  },
  {
   "cell_type": "markdown",
   "metadata": {},
   "source": [
    "#### Determine the top rated movie (by star rating) for each genre."
   ]
  },
  {
   "cell_type": "code",
   "execution_count": 34,
   "metadata": {},
   "outputs": [
    {
     "data": {
      "text/html": [
       "<div>\n",
       "<style scoped>\n",
       "    .dataframe tbody tr th:only-of-type {\n",
       "        vertical-align: middle;\n",
       "    }\n",
       "\n",
       "    .dataframe tbody tr th {\n",
       "        vertical-align: top;\n",
       "    }\n",
       "\n",
       "    .dataframe thead th {\n",
       "        text-align: right;\n",
       "    }\n",
       "</style>\n",
       "<table border=\"1\" class=\"dataframe\">\n",
       "  <thead>\n",
       "    <tr style=\"text-align: right;\">\n",
       "      <th></th>\n",
       "      <th>star_rating</th>\n",
       "      <th>title</th>\n",
       "      <th>content_rating</th>\n",
       "      <th>duration</th>\n",
       "      <th>actors_list</th>\n",
       "    </tr>\n",
       "    <tr>\n",
       "      <th>genre</th>\n",
       "      <th></th>\n",
       "      <th></th>\n",
       "      <th></th>\n",
       "      <th></th>\n",
       "      <th></th>\n",
       "    </tr>\n",
       "  </thead>\n",
       "  <tbody>\n",
       "    <tr>\n",
       "      <th>Action</th>\n",
       "      <td>9.0</td>\n",
       "      <td>The Dark Knight</td>\n",
       "      <td>PG-13</td>\n",
       "      <td>152</td>\n",
       "      <td>[u'Christian Bale', u'Heath Ledger', u'Aaron E...</td>\n",
       "    </tr>\n",
       "    <tr>\n",
       "      <th>Adventure</th>\n",
       "      <td>8.9</td>\n",
       "      <td>The Lord of the Rings: The Return of the King</td>\n",
       "      <td>PG-13</td>\n",
       "      <td>201</td>\n",
       "      <td>[u'Elijah Wood', u'Viggo Mortensen', u'Ian McK...</td>\n",
       "    </tr>\n",
       "    <tr>\n",
       "      <th>Animation</th>\n",
       "      <td>8.6</td>\n",
       "      <td>Spirited Away</td>\n",
       "      <td>PG</td>\n",
       "      <td>125</td>\n",
       "      <td>[u'Daveigh Chase', u'Suzanne Pleshette', u'Miy...</td>\n",
       "    </tr>\n",
       "    <tr>\n",
       "      <th>Biography</th>\n",
       "      <td>8.9</td>\n",
       "      <td>Schindler's List</td>\n",
       "      <td>R</td>\n",
       "      <td>195</td>\n",
       "      <td>[u'Liam Neeson', u'Ralph Fiennes', u'Ben Kings...</td>\n",
       "    </tr>\n",
       "    <tr>\n",
       "      <th>Comedy</th>\n",
       "      <td>8.6</td>\n",
       "      <td>Modern Times</td>\n",
       "      <td>G</td>\n",
       "      <td>87</td>\n",
       "      <td>[u'Charles Chaplin', u'Paulette Goddard', u'He...</td>\n",
       "    </tr>\n",
       "    <tr>\n",
       "      <th>Crime</th>\n",
       "      <td>9.3</td>\n",
       "      <td>The Shawshank Redemption</td>\n",
       "      <td>R</td>\n",
       "      <td>142</td>\n",
       "      <td>[u'Tim Robbins', u'Morgan Freeman', u'Bob Gunt...</td>\n",
       "    </tr>\n",
       "    <tr>\n",
       "      <th>Drama</th>\n",
       "      <td>8.9</td>\n",
       "      <td>12 Angry Men</td>\n",
       "      <td>UNRATED</td>\n",
       "      <td>96</td>\n",
       "      <td>[u'Henry Fonda', u'Lee J. Cobb', u'Martin Bals...</td>\n",
       "    </tr>\n",
       "    <tr>\n",
       "      <th>Family</th>\n",
       "      <td>7.9</td>\n",
       "      <td>E.T. the Extra-Terrestrial</td>\n",
       "      <td>PG</td>\n",
       "      <td>115</td>\n",
       "      <td>[u'Henry Thomas', u'Drew Barrymore', u'Peter C...</td>\n",
       "    </tr>\n",
       "    <tr>\n",
       "      <th>Fantasy</th>\n",
       "      <td>7.7</td>\n",
       "      <td>The City of Lost Children</td>\n",
       "      <td>R</td>\n",
       "      <td>112</td>\n",
       "      <td>[u'Ron Perlman', u'Daniel Emilfork', u'Judith ...</td>\n",
       "    </tr>\n",
       "    <tr>\n",
       "      <th>Film-Noir</th>\n",
       "      <td>8.3</td>\n",
       "      <td>The Third Man</td>\n",
       "      <td>UNRATED</td>\n",
       "      <td>93</td>\n",
       "      <td>[u'Orson Welles', u'Joseph Cotten', u'Alida Va...</td>\n",
       "    </tr>\n",
       "    <tr>\n",
       "      <th>History</th>\n",
       "      <td>8.0</td>\n",
       "      <td>Battleship Potemkin</td>\n",
       "      <td>UNRATED</td>\n",
       "      <td>66</td>\n",
       "      <td>[u'Aleksandr Antonov', u'Vladimir Barsky', u'G...</td>\n",
       "    </tr>\n",
       "    <tr>\n",
       "      <th>Horror</th>\n",
       "      <td>8.6</td>\n",
       "      <td>Psycho</td>\n",
       "      <td>R</td>\n",
       "      <td>109</td>\n",
       "      <td>[u'Anthony Perkins', u'Janet Leigh', u'Vera Mi...</td>\n",
       "    </tr>\n",
       "    <tr>\n",
       "      <th>Mystery</th>\n",
       "      <td>8.6</td>\n",
       "      <td>Rear Window</td>\n",
       "      <td>UNRATED</td>\n",
       "      <td>112</td>\n",
       "      <td>[u'James Stewart', u'Grace Kelly', u'Wendell C...</td>\n",
       "    </tr>\n",
       "    <tr>\n",
       "      <th>Sci-Fi</th>\n",
       "      <td>8.2</td>\n",
       "      <td>Blade Runner</td>\n",
       "      <td>R</td>\n",
       "      <td>117</td>\n",
       "      <td>[u'Harrison Ford', u'Rutger Hauer', u'Sean You...</td>\n",
       "    </tr>\n",
       "    <tr>\n",
       "      <th>Thriller</th>\n",
       "      <td>8.0</td>\n",
       "      <td>Shadow of a Doubt</td>\n",
       "      <td>UNRATED</td>\n",
       "      <td>108</td>\n",
       "      <td>[u'Teresa Wright', u'Joseph Cotten', u'Macdona...</td>\n",
       "    </tr>\n",
       "    <tr>\n",
       "      <th>Western</th>\n",
       "      <td>8.9</td>\n",
       "      <td>The Good, the Bad and the Ugly</td>\n",
       "      <td>UNRATED</td>\n",
       "      <td>161</td>\n",
       "      <td>[u'Clint Eastwood', u'Eli Wallach', u'Lee Van ...</td>\n",
       "    </tr>\n",
       "  </tbody>\n",
       "</table>\n",
       "</div>"
      ],
      "text/plain": [
       "           star_rating                                          title  \\\n",
       "genre                                                                   \n",
       "Action             9.0                                The Dark Knight   \n",
       "Adventure          8.9  The Lord of the Rings: The Return of the King   \n",
       "Animation          8.6                                  Spirited Away   \n",
       "Biography          8.9                               Schindler's List   \n",
       "Comedy             8.6                                   Modern Times   \n",
       "Crime              9.3                       The Shawshank Redemption   \n",
       "Drama              8.9                                   12 Angry Men   \n",
       "Family             7.9                     E.T. the Extra-Terrestrial   \n",
       "Fantasy            7.7                      The City of Lost Children   \n",
       "Film-Noir          8.3                                  The Third Man   \n",
       "History            8.0                            Battleship Potemkin   \n",
       "Horror             8.6                                         Psycho   \n",
       "Mystery            8.6                                    Rear Window   \n",
       "Sci-Fi             8.2                                   Blade Runner   \n",
       "Thriller           8.0                              Shadow of a Doubt   \n",
       "Western            8.9                 The Good, the Bad and the Ugly   \n",
       "\n",
       "          content_rating  duration  \\\n",
       "genre                                \n",
       "Action             PG-13       152   \n",
       "Adventure          PG-13       201   \n",
       "Animation             PG       125   \n",
       "Biography              R       195   \n",
       "Comedy                 G        87   \n",
       "Crime                  R       142   \n",
       "Drama            UNRATED        96   \n",
       "Family                PG       115   \n",
       "Fantasy                R       112   \n",
       "Film-Noir        UNRATED        93   \n",
       "History          UNRATED        66   \n",
       "Horror                 R       109   \n",
       "Mystery          UNRATED       112   \n",
       "Sci-Fi                 R       117   \n",
       "Thriller         UNRATED       108   \n",
       "Western          UNRATED       161   \n",
       "\n",
       "                                                 actors_list  \n",
       "genre                                                         \n",
       "Action     [u'Christian Bale', u'Heath Ledger', u'Aaron E...  \n",
       "Adventure  [u'Elijah Wood', u'Viggo Mortensen', u'Ian McK...  \n",
       "Animation  [u'Daveigh Chase', u'Suzanne Pleshette', u'Miy...  \n",
       "Biography  [u'Liam Neeson', u'Ralph Fiennes', u'Ben Kings...  \n",
       "Comedy     [u'Charles Chaplin', u'Paulette Goddard', u'He...  \n",
       "Crime      [u'Tim Robbins', u'Morgan Freeman', u'Bob Gunt...  \n",
       "Drama      [u'Henry Fonda', u'Lee J. Cobb', u'Martin Bals...  \n",
       "Family     [u'Henry Thomas', u'Drew Barrymore', u'Peter C...  \n",
       "Fantasy    [u'Ron Perlman', u'Daniel Emilfork', u'Judith ...  \n",
       "Film-Noir  [u'Orson Welles', u'Joseph Cotten', u'Alida Va...  \n",
       "History    [u'Aleksandr Antonov', u'Vladimir Barsky', u'G...  \n",
       "Horror     [u'Anthony Perkins', u'Janet Leigh', u'Vera Mi...  \n",
       "Mystery    [u'James Stewart', u'Grace Kelly', u'Wendell C...  \n",
       "Sci-Fi     [u'Harrison Ford', u'Rutger Hauer', u'Sean You...  \n",
       "Thriller   [u'Teresa Wright', u'Joseph Cotten', u'Macdona...  \n",
       "Western    [u'Clint Eastwood', u'Eli Wallach', u'Lee Van ...  "
      ]
     },
     "execution_count": 34,
     "metadata": {},
     "output_type": "execute_result"
    }
   ],
   "source": [
    "movies.sort_values('star_rating', ascending=False).groupby('genre').first()"
   ]
  },
  {
   "cell_type": "markdown",
   "metadata": {},
   "source": [
    "#### Check if there are multiple movies with the same title, and if so, determine if they are actually duplicates."
   ]
  },
  {
   "cell_type": "code",
   "execution_count": 22,
   "metadata": {},
   "outputs": [
    {
     "data": {
      "text/html": [
       "<div>\n",
       "<style scoped>\n",
       "    .dataframe tbody tr th:only-of-type {\n",
       "        vertical-align: middle;\n",
       "    }\n",
       "\n",
       "    .dataframe tbody tr th {\n",
       "        vertical-align: top;\n",
       "    }\n",
       "\n",
       "    .dataframe thead th {\n",
       "        text-align: right;\n",
       "    }\n",
       "</style>\n",
       "<table border=\"1\" class=\"dataframe\">\n",
       "  <thead>\n",
       "    <tr style=\"text-align: right;\">\n",
       "      <th></th>\n",
       "      <th>star_rating</th>\n",
       "      <th>title</th>\n",
       "      <th>content_rating</th>\n",
       "      <th>genre</th>\n",
       "      <th>duration</th>\n",
       "      <th>actors_list</th>\n",
       "    </tr>\n",
       "  </thead>\n",
       "  <tbody>\n",
       "    <tr>\n",
       "      <th>466</th>\n",
       "      <td>7.9</td>\n",
       "      <td>The Girl with the Dragon Tattoo</td>\n",
       "      <td>R</td>\n",
       "      <td>Crime</td>\n",
       "      <td>158</td>\n",
       "      <td>[u'Daniel Craig', u'Rooney Mara', u'Christophe...</td>\n",
       "    </tr>\n",
       "    <tr>\n",
       "      <th>482</th>\n",
       "      <td>7.8</td>\n",
       "      <td>The Girl with the Dragon Tattoo</td>\n",
       "      <td>R</td>\n",
       "      <td>Crime</td>\n",
       "      <td>152</td>\n",
       "      <td>[u'Michael Nyqvist', u'Noomi Rapace', u'Ewa Fr...</td>\n",
       "    </tr>\n",
       "    <tr>\n",
       "      <th>662</th>\n",
       "      <td>7.7</td>\n",
       "      <td>True Grit</td>\n",
       "      <td>PG-13</td>\n",
       "      <td>Adventure</td>\n",
       "      <td>110</td>\n",
       "      <td>[u'Jeff Bridges', u'Matt Damon', u'Hailee Stei...</td>\n",
       "    </tr>\n",
       "    <tr>\n",
       "      <th>678</th>\n",
       "      <td>7.7</td>\n",
       "      <td>Les Miserables</td>\n",
       "      <td>PG-13</td>\n",
       "      <td>Drama</td>\n",
       "      <td>158</td>\n",
       "      <td>[u'Hugh Jackman', u'Russell Crowe', u'Anne Hat...</td>\n",
       "    </tr>\n",
       "    <tr>\n",
       "      <th>703</th>\n",
       "      <td>7.6</td>\n",
       "      <td>Dracula</td>\n",
       "      <td>UNRATED</td>\n",
       "      <td>Horror</td>\n",
       "      <td>85</td>\n",
       "      <td>[u'Bela Lugosi', u'Helen Chandler', u'David Ma...</td>\n",
       "    </tr>\n",
       "    <tr>\n",
       "      <th>905</th>\n",
       "      <td>7.5</td>\n",
       "      <td>Dracula</td>\n",
       "      <td>R</td>\n",
       "      <td>Horror</td>\n",
       "      <td>128</td>\n",
       "      <td>[u'Gary Oldman', u'Winona Ryder', u'Anthony Ho...</td>\n",
       "    </tr>\n",
       "    <tr>\n",
       "      <th>924</th>\n",
       "      <td>7.5</td>\n",
       "      <td>Les Miserables</td>\n",
       "      <td>PG-13</td>\n",
       "      <td>Crime</td>\n",
       "      <td>134</td>\n",
       "      <td>[u'Liam Neeson', u'Geoffrey Rush', u'Uma Thurm...</td>\n",
       "    </tr>\n",
       "    <tr>\n",
       "      <th>936</th>\n",
       "      <td>7.4</td>\n",
       "      <td>True Grit</td>\n",
       "      <td>UNRATED</td>\n",
       "      <td>Adventure</td>\n",
       "      <td>128</td>\n",
       "      <td>[u'John Wayne', u'Kim Darby', u'Glen Campbell']</td>\n",
       "    </tr>\n",
       "  </tbody>\n",
       "</table>\n",
       "</div>"
      ],
      "text/plain": [
       "     star_rating                            title content_rating      genre  \\\n",
       "466          7.9  The Girl with the Dragon Tattoo              R      Crime   \n",
       "482          7.8  The Girl with the Dragon Tattoo              R      Crime   \n",
       "662          7.7                        True Grit          PG-13  Adventure   \n",
       "678          7.7                   Les Miserables          PG-13      Drama   \n",
       "703          7.6                          Dracula        UNRATED     Horror   \n",
       "905          7.5                          Dracula              R     Horror   \n",
       "924          7.5                   Les Miserables          PG-13      Crime   \n",
       "936          7.4                        True Grit        UNRATED  Adventure   \n",
       "\n",
       "     duration                                        actors_list  \n",
       "466       158  [u'Daniel Craig', u'Rooney Mara', u'Christophe...  \n",
       "482       152  [u'Michael Nyqvist', u'Noomi Rapace', u'Ewa Fr...  \n",
       "662       110  [u'Jeff Bridges', u'Matt Damon', u'Hailee Stei...  \n",
       "678       158  [u'Hugh Jackman', u'Russell Crowe', u'Anne Hat...  \n",
       "703        85  [u'Bela Lugosi', u'Helen Chandler', u'David Ma...  \n",
       "905       128  [u'Gary Oldman', u'Winona Ryder', u'Anthony Ho...  \n",
       "924       134  [u'Liam Neeson', u'Geoffrey Rush', u'Uma Thurm...  \n",
       "936       128    [u'John Wayne', u'Kim Darby', u'Glen Campbell']  "
      ]
     },
     "execution_count": 22,
     "metadata": {},
     "output_type": "execute_result"
    }
   ],
   "source": [
    "duplicatedtitles = movies[movies.title.duplicated()].title\n",
    "movies[movies.title.isin(duplicatedtitles)]\n",
    "#these are not truly duplicates, different versions"
   ]
  },
  {
   "cell_type": "markdown",
   "metadata": {
    "collapsed": true
   },
   "source": [
    "#### Calculate the average star rating for each genre, but only include genres with at least 10 movies\n"
   ]
  },
  {
   "cell_type": "code",
   "execution_count": 23,
   "metadata": {
    "scrolled": true
   },
   "outputs": [
    {
     "data": {
      "text/plain": [
       "Drama        278\n",
       "Comedy       156\n",
       "Action       136\n",
       "Crime        124\n",
       "Biography     77\n",
       "Adventure     75\n",
       "Animation     62\n",
       "Horror        29\n",
       "Mystery       16\n",
       "Western        9\n",
       "Sci-Fi         5\n",
       "Thriller       5\n",
       "Film-Noir      3\n",
       "Family         2\n",
       "History        1\n",
       "Fantasy        1\n",
       "Name: genre, dtype: int64"
      ]
     },
     "execution_count": 23,
     "metadata": {},
     "output_type": "execute_result"
    }
   ],
   "source": [
    "# by manually create a list of relevant genres, then filter using that list\n",
    "movies.genre.value_counts()"
   ]
  },
  {
   "cell_type": "code",
   "execution_count": 24,
   "metadata": {},
   "outputs": [
    {
     "data": {
      "text/plain": [
       "genre\n",
       "Action       7.884559\n",
       "Adventure    7.933333\n",
       "Animation    7.914516\n",
       "Biography    7.862338\n",
       "Comedy       7.822436\n",
       "Crime        7.916935\n",
       "Drama        7.902518\n",
       "Horror       7.806897\n",
       "Mystery      7.975000\n",
       "Name: star_rating, dtype: float64"
      ]
     },
     "execution_count": 24,
     "metadata": {},
     "output_type": "execute_result"
    }
   ],
   "source": [
    "genre_most=['Drama', 'Comedy', 'Action', 'Crime', 'Biography', 'Adventure', 'Animation', 'Horror', 'Mystery']\n",
    "movies[movies.genre.isin(genre_most)].groupby('genre').star_rating.mean()"
   ]
  },
  {
   "cell_type": "code",
   "execution_count": 25,
   "metadata": {},
   "outputs": [],
   "source": [
    "# by automatically create a list of relevant genres by saving the value_counts and then filtering\n",
    "genre_counter = movies.genre.value_counts()"
   ]
  },
  {
   "cell_type": "code",
   "execution_count": 26,
   "metadata": {},
   "outputs": [],
   "source": [
    "most_genre = genre_counter[genre_counter >= 10].index"
   ]
  },
  {
   "cell_type": "code",
   "execution_count": 27,
   "metadata": {},
   "outputs": [
    {
     "data": {
      "text/plain": [
       "genre\n",
       "Action       7.884559\n",
       "Adventure    7.933333\n",
       "Animation    7.914516\n",
       "Biography    7.862338\n",
       "Comedy       7.822436\n",
       "Crime        7.916935\n",
       "Drama        7.902518\n",
       "Horror       7.806897\n",
       "Mystery      7.975000\n",
       "Name: star_rating, dtype: float64"
      ]
     },
     "execution_count": 27,
     "metadata": {},
     "output_type": "execute_result"
    }
   ],
   "source": [
    "movies[movies.genre.isin(most_genre)].groupby('genre').star_rating.mean()"
   ]
  },
  {
   "cell_type": "code",
   "execution_count": 28,
   "metadata": {},
   "outputs": [
    {
     "data": {
      "text/plain": [
       "genre\n",
       "Action       7.884559\n",
       "Adventure    7.933333\n",
       "Animation    7.914516\n",
       "Biography    7.862338\n",
       "Comedy       7.822436\n",
       "Crime        7.916935\n",
       "Drama        7.902518\n",
       "Horror       7.806897\n",
       "Mystery      7.975000\n",
       "Name: star_rating, dtype: float64"
      ]
     },
     "execution_count": 28,
     "metadata": {},
     "output_type": "execute_result"
    }
   ],
   "source": [
    "#  by calculating the average star rating for all genres, then filter using a boolean Series\n",
    "movies.groupby('genre').star_rating.mean()[movies.genre.value_counts() >= 10]"
   ]
  },
  {
   "cell_type": "code",
   "execution_count": 31,
   "metadata": {},
   "outputs": [
    {
     "data": {
      "text/html": [
       "<div>\n",
       "<style scoped>\n",
       "    .dataframe tbody tr th:only-of-type {\n",
       "        vertical-align: middle;\n",
       "    }\n",
       "\n",
       "    .dataframe tbody tr th {\n",
       "        vertical-align: top;\n",
       "    }\n",
       "\n",
       "    .dataframe thead th {\n",
       "        text-align: right;\n",
       "    }\n",
       "</style>\n",
       "<table border=\"1\" class=\"dataframe\">\n",
       "  <thead>\n",
       "    <tr style=\"text-align: right;\">\n",
       "      <th></th>\n",
       "      <th>count</th>\n",
       "      <th>mean</th>\n",
       "    </tr>\n",
       "    <tr>\n",
       "      <th>genre</th>\n",
       "      <th></th>\n",
       "      <th></th>\n",
       "    </tr>\n",
       "  </thead>\n",
       "  <tbody>\n",
       "    <tr>\n",
       "      <th>Action</th>\n",
       "      <td>136</td>\n",
       "      <td>7.884559</td>\n",
       "    </tr>\n",
       "    <tr>\n",
       "      <th>Adventure</th>\n",
       "      <td>75</td>\n",
       "      <td>7.933333</td>\n",
       "    </tr>\n",
       "    <tr>\n",
       "      <th>Animation</th>\n",
       "      <td>62</td>\n",
       "      <td>7.914516</td>\n",
       "    </tr>\n",
       "    <tr>\n",
       "      <th>Biography</th>\n",
       "      <td>77</td>\n",
       "      <td>7.862338</td>\n",
       "    </tr>\n",
       "    <tr>\n",
       "      <th>Comedy</th>\n",
       "      <td>156</td>\n",
       "      <td>7.822436</td>\n",
       "    </tr>\n",
       "    <tr>\n",
       "      <th>Crime</th>\n",
       "      <td>124</td>\n",
       "      <td>7.916935</td>\n",
       "    </tr>\n",
       "    <tr>\n",
       "      <th>Drama</th>\n",
       "      <td>278</td>\n",
       "      <td>7.902518</td>\n",
       "    </tr>\n",
       "    <tr>\n",
       "      <th>Horror</th>\n",
       "      <td>29</td>\n",
       "      <td>7.806897</td>\n",
       "    </tr>\n",
       "    <tr>\n",
       "      <th>Mystery</th>\n",
       "      <td>16</td>\n",
       "      <td>7.975000</td>\n",
       "    </tr>\n",
       "  </tbody>\n",
       "</table>\n",
       "</div>"
      ],
      "text/plain": [
       "           count      mean\n",
       "genre                     \n",
       "Action       136  7.884559\n",
       "Adventure     75  7.933333\n",
       "Animation     62  7.914516\n",
       "Biography     77  7.862338\n",
       "Comedy       156  7.822436\n",
       "Crime        124  7.916935\n",
       "Drama        278  7.902518\n",
       "Horror        29  7.806897\n",
       "Mystery       16  7.975000"
      ]
     },
     "execution_count": 31,
     "metadata": {},
     "output_type": "execute_result"
    }
   ],
   "source": [
    "# by aggregating by count and mean then filter using count\n",
    "genre_ratings = movies.groupby('genre').star_rating.agg(['count', 'mean'])\n",
    "genre_ratings[genre_ratings['count'] >= 10]"
   ]
  },
  {
   "cell_type": "markdown",
   "metadata": {
    "collapsed": true
   },
   "source": [
    "#### Figure out something interesting using the actors data"
   ]
  },
  {
   "cell_type": "code",
   "execution_count": 29,
   "metadata": {},
   "outputs": [],
   "source": [
    "repeatactor = movies[movies.actors_list.duplicated()].actors_list"
   ]
  },
  {
   "cell_type": "code",
   "execution_count": 30,
   "metadata": {},
   "outputs": [
    {
     "data": {
      "text/plain": [
       "19     [u'Mark Hamill', u'Harrison Ford', u'Carrie Fi...\n",
       "80     [u'Mark Hamill', u'Harrison Ford', u'Carrie Fi...\n",
       "414         [u'Tom Hanks', u'Tim Allen', u'Joan Cusack']\n",
       "520    [u'Michael J. Fox', u'Christopher Lloyd', u'Le...\n",
       "551    [u'Daniel Radcliffe', u'Emma Watson', u'Rupert...\n",
       "642    [u'Daniel Radcliffe', u'Emma Watson', u'Rupert...\n",
       "727    [u'Daniel Radcliffe', u'Emma Watson', u'Rupert...\n",
       "814    [u'Ian McKellen', u'Martin Freeman', u'Richard...\n",
       "891    [u'Daniel Radcliffe', u'Emma Watson', u'Rupert...\n",
       "932    [u'Daniel Radcliffe', u'Emma Watson', u'Rupert...\n",
       "Name: actors_list, dtype: object"
      ]
     },
     "execution_count": 30,
     "metadata": {},
     "output_type": "execute_result"
    }
   ],
   "source": [
    "repeatactor"
   ]
  },
  {
   "cell_type": "code",
   "execution_count": 31,
   "metadata": {},
   "outputs": [
    {
     "data": {
      "text/plain": [
       "[u'Daniel Radcliffe', u'Emma Watson', u'Rupert Grint']        5\n",
       "[u'Mark Hamill', u'Harrison Ford', u'Carrie Fisher']          2\n",
       "[u'Tom Hanks', u'Tim Allen', u'Joan Cusack']                  1\n",
       "[u'Michael J. Fox', u'Christopher Lloyd', u'Lea Thompson']    1\n",
       "[u'Ian McKellen', u'Martin Freeman', u'Richard Armitage']     1\n",
       "Name: actors_list, dtype: int64"
      ]
     },
     "execution_count": 31,
     "metadata": {},
     "output_type": "execute_result"
    }
   ],
   "source": [
    "repeatactor.value_counts()"
   ]
  },
  {
   "cell_type": "markdown",
   "metadata": {},
   "source": [
    "# Daniel Radcliffe, Emma Watson, and Rupert Grint appear on the list the most with 5 appearances each"
   ]
  }
 ],
 "metadata": {
  "kernelspec": {
   "display_name": "Python 3 (ipykernel)",
   "language": "python",
   "name": "python3"
  },
  "language_info": {
   "codemirror_mode": {
    "name": "ipython",
    "version": 3
   },
   "file_extension": ".py",
   "mimetype": "text/x-python",
   "name": "python",
   "nbconvert_exporter": "python",
   "pygments_lexer": "ipython3",
   "version": "3.9.7"
  }
 },
 "nbformat": 4,
 "nbformat_minor": 1
}
